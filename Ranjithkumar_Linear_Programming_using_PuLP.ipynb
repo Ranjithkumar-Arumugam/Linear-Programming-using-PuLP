{
  "nbformat": 4,
  "nbformat_minor": 0,
  "metadata": {
    "colab": {
      "provenance": []
    },
    "kernelspec": {
      "name": "python3",
      "display_name": "Python 3"
    },
    "language_info": {
      "name": "python"
    }
  },
  "cells": [
    {
      "cell_type": "markdown",
      "source": [
        "**Q1. Problem Statement: Linear Programming using PuLP**\n",
        "\n",
        "Suppose you are a dietician and are responsible to advise one of your customers on the best possible food plan he should follow in order to attain the optimum nutrition.  However, there are some restrictions in terms of the budget and the variety of food that needs to be included in the diet plan. The cost should be minimal, at the same time, the nutritional value derived from the combination of different food items should be maximum, considering the maximum and minimum constraints given in the data. \n",
        "\n",
        "Load the 'deit.csv' dataset into a DataFrame and perform the following tasks:\n",
        "1.\tDownload and import PuLP and other required libraries\n",
        "2.\tFormulate the optimization problem using LpProblem() method\n",
        "3.\tGet a list of all the food items present in the DataFrame\n",
        "4.\tCreate a separate dictionary for each of these columns - 'Price/Serving', 'Calories', 'Cholesterol (mg)', 'Total_Fat (g)', 'Sodium (mg)', 'Carbohydrates (g)', 'Dietary_Fiber (g)', 'Protein (g)', 'Vit_A (IU)', 'Vit_C (IU)', 'Calcium (mg)', and 'Iron (mg)' using zip() function\n",
        "5.\tCreate a dictionary called 'food_vars' to store the referenced variables for food items with the 'food' list\n",
        "6.\tAdd an objective function (lpSum() ) to the LPP \n",
        "7.\tAdd the maximum and minimum constraints for each of the nutritional values present in the DataFrame\n",
        "8.\tRun the solver algorithm to solve the problem\n",
        "9.\tPrint the variables after the solution\n",
        "10.\tBased on the results, prepare an optimal diet plan\n"
      ],
      "metadata": {
        "id": "hSQtDqUTW8nC"
      }
    },
    {
      "cell_type": "markdown",
      "source": [
        "**Step-1:** Downloading and importing pulp and other required libraries."
      ],
      "metadata": {
        "id": "Hayw5kTyVbOH"
      }
    },
    {
      "cell_type": "code",
      "execution_count": null,
      "metadata": {
        "colab": {
          "base_uri": "https://localhost:8080/"
        },
        "id": "6UO0q0Vsm5mx",
        "outputId": "a16bdb22-7d1c-4557-b61b-d9c6379dd8a5"
      },
      "outputs": [
        {
          "output_type": "stream",
          "name": "stdout",
          "text": [
            "Looking in indexes: https://pypi.org/simple, https://us-python.pkg.dev/colab-wheels/public/simple/\n",
            "Requirement already satisfied: pulp in /usr/local/lib/python3.8/dist-packages (2.7.0)\n"
          ]
        }
      ],
      "source": [
        "!pip install pulp"
      ]
    },
    {
      "cell_type": "code",
      "source": [
        "import pulp\n",
        "from pulp import *\n",
        "import pandas as pd\n",
        "import warnings\n",
        "warnings.filterwarnings('always')\n",
        "warnings.filterwarnings('ignore')"
      ],
      "metadata": {
        "id": "neqLSSJzVke_"
      },
      "execution_count": null,
      "outputs": []
    },
    {
      "cell_type": "markdown",
      "source": [
        "**Step-2:** Formulating the optimization problem."
      ],
      "metadata": {
        "id": "QltnU4m-XA_v"
      }
    },
    {
      "cell_type": "code",
      "source": [
        "prob = LpProblem('Diet_Problem', LpMinimize)"
      ],
      "metadata": {
        "id": "idetXtjuWO00"
      },
      "execution_count": null,
      "outputs": []
    },
    {
      "cell_type": "markdown",
      "source": [
        "**Step-3:** Loading the dataset into a DataFrame."
      ],
      "metadata": {
        "id": "gVJZbc5hXLmx"
      }
    },
    {
      "cell_type": "code",
      "source": [
        "df=pd.read_csv('/content/diet.csv')\n",
        "df.head()"
      ],
      "metadata": {
        "colab": {
          "base_uri": "https://localhost:8080/",
          "height": 392
        },
        "id": "pE3g2SAfXTVS",
        "outputId": "1219847a-baae-46f6-a520-9b7d48e92b71"
      },
      "execution_count": null,
      "outputs": [
        {
          "output_type": "execute_result",
          "data": {
            "text/plain": [
              "                 Foods Serving Size  Calories  Cholesterol (mg)  \\\n",
              "0      Frozen Broccoli    10 Oz Pkg      73.8               0.0   \n",
              "1          Frozen Corn      1/2 Cup      72.2               0.0   \n",
              "2  Raw Lettuce Iceberg       1 Leaf       2.6               0.0   \n",
              "3       Baked Potatoes      1/2 Cup     171.5               0.0   \n",
              "4                 Tofu    1/4 block      88.2               0.0   \n",
              "\n",
              "   Total_Fat (g)  Sodium (mg)  Carbohydrates (g)  Dietary_Fiber (g)  \\\n",
              "0            0.8         68.2               13.6                8.5   \n",
              "1            0.6          2.5               17.1                2.0   \n",
              "2            0.0          1.8                0.4                0.3   \n",
              "3            0.2         15.2               39.9                3.2   \n",
              "4            5.5          8.1                2.2                1.4   \n",
              "\n",
              "   Protein (g)  Vit_A (IU)  Vit_C (IU)  Calcium (mg)  Iron (mg)  \\\n",
              "0          8.0      5867.4       160.2         159.0        2.3   \n",
              "1          2.5       106.6         5.2           3.3        0.3   \n",
              "2          0.2        66.0         0.8           3.8        0.1   \n",
              "3          3.7         0.0        15.6          22.7        4.3   \n",
              "4          9.4        98.6         0.1         121.8        6.2   \n",
              "\n",
              "   Price/Serving ($)  \n",
              "0               0.48  \n",
              "1               0.54  \n",
              "2               0.06  \n",
              "3               0.18  \n",
              "4               0.93  "
            ],
            "text/html": [
              "\n",
              "  <div id=\"df-b98ae5fb-32d8-465c-b79c-14520ef2ae08\">\n",
              "    <div class=\"colab-df-container\">\n",
              "      <div>\n",
              "<style scoped>\n",
              "    .dataframe tbody tr th:only-of-type {\n",
              "        vertical-align: middle;\n",
              "    }\n",
              "\n",
              "    .dataframe tbody tr th {\n",
              "        vertical-align: top;\n",
              "    }\n",
              "\n",
              "    .dataframe thead th {\n",
              "        text-align: right;\n",
              "    }\n",
              "</style>\n",
              "<table border=\"1\" class=\"dataframe\">\n",
              "  <thead>\n",
              "    <tr style=\"text-align: right;\">\n",
              "      <th></th>\n",
              "      <th>Foods</th>\n",
              "      <th>Serving Size</th>\n",
              "      <th>Calories</th>\n",
              "      <th>Cholesterol (mg)</th>\n",
              "      <th>Total_Fat (g)</th>\n",
              "      <th>Sodium (mg)</th>\n",
              "      <th>Carbohydrates (g)</th>\n",
              "      <th>Dietary_Fiber (g)</th>\n",
              "      <th>Protein (g)</th>\n",
              "      <th>Vit_A (IU)</th>\n",
              "      <th>Vit_C (IU)</th>\n",
              "      <th>Calcium (mg)</th>\n",
              "      <th>Iron (mg)</th>\n",
              "      <th>Price/Serving ($)</th>\n",
              "    </tr>\n",
              "  </thead>\n",
              "  <tbody>\n",
              "    <tr>\n",
              "      <th>0</th>\n",
              "      <td>Frozen Broccoli</td>\n",
              "      <td>10 Oz Pkg</td>\n",
              "      <td>73.8</td>\n",
              "      <td>0.0</td>\n",
              "      <td>0.8</td>\n",
              "      <td>68.2</td>\n",
              "      <td>13.6</td>\n",
              "      <td>8.5</td>\n",
              "      <td>8.0</td>\n",
              "      <td>5867.4</td>\n",
              "      <td>160.2</td>\n",
              "      <td>159.0</td>\n",
              "      <td>2.3</td>\n",
              "      <td>0.48</td>\n",
              "    </tr>\n",
              "    <tr>\n",
              "      <th>1</th>\n",
              "      <td>Frozen Corn</td>\n",
              "      <td>1/2 Cup</td>\n",
              "      <td>72.2</td>\n",
              "      <td>0.0</td>\n",
              "      <td>0.6</td>\n",
              "      <td>2.5</td>\n",
              "      <td>17.1</td>\n",
              "      <td>2.0</td>\n",
              "      <td>2.5</td>\n",
              "      <td>106.6</td>\n",
              "      <td>5.2</td>\n",
              "      <td>3.3</td>\n",
              "      <td>0.3</td>\n",
              "      <td>0.54</td>\n",
              "    </tr>\n",
              "    <tr>\n",
              "      <th>2</th>\n",
              "      <td>Raw Lettuce Iceberg</td>\n",
              "      <td>1 Leaf</td>\n",
              "      <td>2.6</td>\n",
              "      <td>0.0</td>\n",
              "      <td>0.0</td>\n",
              "      <td>1.8</td>\n",
              "      <td>0.4</td>\n",
              "      <td>0.3</td>\n",
              "      <td>0.2</td>\n",
              "      <td>66.0</td>\n",
              "      <td>0.8</td>\n",
              "      <td>3.8</td>\n",
              "      <td>0.1</td>\n",
              "      <td>0.06</td>\n",
              "    </tr>\n",
              "    <tr>\n",
              "      <th>3</th>\n",
              "      <td>Baked Potatoes</td>\n",
              "      <td>1/2 Cup</td>\n",
              "      <td>171.5</td>\n",
              "      <td>0.0</td>\n",
              "      <td>0.2</td>\n",
              "      <td>15.2</td>\n",
              "      <td>39.9</td>\n",
              "      <td>3.2</td>\n",
              "      <td>3.7</td>\n",
              "      <td>0.0</td>\n",
              "      <td>15.6</td>\n",
              "      <td>22.7</td>\n",
              "      <td>4.3</td>\n",
              "      <td>0.18</td>\n",
              "    </tr>\n",
              "    <tr>\n",
              "      <th>4</th>\n",
              "      <td>Tofu</td>\n",
              "      <td>1/4 block</td>\n",
              "      <td>88.2</td>\n",
              "      <td>0.0</td>\n",
              "      <td>5.5</td>\n",
              "      <td>8.1</td>\n",
              "      <td>2.2</td>\n",
              "      <td>1.4</td>\n",
              "      <td>9.4</td>\n",
              "      <td>98.6</td>\n",
              "      <td>0.1</td>\n",
              "      <td>121.8</td>\n",
              "      <td>6.2</td>\n",
              "      <td>0.93</td>\n",
              "    </tr>\n",
              "  </tbody>\n",
              "</table>\n",
              "</div>\n",
              "      <button class=\"colab-df-convert\" onclick=\"convertToInteractive('df-b98ae5fb-32d8-465c-b79c-14520ef2ae08')\"\n",
              "              title=\"Convert this dataframe to an interactive table.\"\n",
              "              style=\"display:none;\">\n",
              "        \n",
              "  <svg xmlns=\"http://www.w3.org/2000/svg\" height=\"24px\"viewBox=\"0 0 24 24\"\n",
              "       width=\"24px\">\n",
              "    <path d=\"M0 0h24v24H0V0z\" fill=\"none\"/>\n",
              "    <path d=\"M18.56 5.44l.94 2.06.94-2.06 2.06-.94-2.06-.94-.94-2.06-.94 2.06-2.06.94zm-11 1L8.5 8.5l.94-2.06 2.06-.94-2.06-.94L8.5 2.5l-.94 2.06-2.06.94zm10 10l.94 2.06.94-2.06 2.06-.94-2.06-.94-.94-2.06-.94 2.06-2.06.94z\"/><path d=\"M17.41 7.96l-1.37-1.37c-.4-.4-.92-.59-1.43-.59-.52 0-1.04.2-1.43.59L10.3 9.45l-7.72 7.72c-.78.78-.78 2.05 0 2.83L4 21.41c.39.39.9.59 1.41.59.51 0 1.02-.2 1.41-.59l7.78-7.78 2.81-2.81c.8-.78.8-2.07 0-2.86zM5.41 20L4 18.59l7.72-7.72 1.47 1.35L5.41 20z\"/>\n",
              "  </svg>\n",
              "      </button>\n",
              "      \n",
              "  <style>\n",
              "    .colab-df-container {\n",
              "      display:flex;\n",
              "      flex-wrap:wrap;\n",
              "      gap: 12px;\n",
              "    }\n",
              "\n",
              "    .colab-df-convert {\n",
              "      background-color: #E8F0FE;\n",
              "      border: none;\n",
              "      border-radius: 50%;\n",
              "      cursor: pointer;\n",
              "      display: none;\n",
              "      fill: #1967D2;\n",
              "      height: 32px;\n",
              "      padding: 0 0 0 0;\n",
              "      width: 32px;\n",
              "    }\n",
              "\n",
              "    .colab-df-convert:hover {\n",
              "      background-color: #E2EBFA;\n",
              "      box-shadow: 0px 1px 2px rgba(60, 64, 67, 0.3), 0px 1px 3px 1px rgba(60, 64, 67, 0.15);\n",
              "      fill: #174EA6;\n",
              "    }\n",
              "\n",
              "    [theme=dark] .colab-df-convert {\n",
              "      background-color: #3B4455;\n",
              "      fill: #D2E3FC;\n",
              "    }\n",
              "\n",
              "    [theme=dark] .colab-df-convert:hover {\n",
              "      background-color: #434B5C;\n",
              "      box-shadow: 0px 1px 3px 1px rgba(0, 0, 0, 0.15);\n",
              "      filter: drop-shadow(0px 1px 2px rgba(0, 0, 0, 0.3));\n",
              "      fill: #FFFFFF;\n",
              "    }\n",
              "  </style>\n",
              "\n",
              "      <script>\n",
              "        const buttonEl =\n",
              "          document.querySelector('#df-b98ae5fb-32d8-465c-b79c-14520ef2ae08 button.colab-df-convert');\n",
              "        buttonEl.style.display =\n",
              "          google.colab.kernel.accessAllowed ? 'block' : 'none';\n",
              "\n",
              "        async function convertToInteractive(key) {\n",
              "          const element = document.querySelector('#df-b98ae5fb-32d8-465c-b79c-14520ef2ae08');\n",
              "          const dataTable =\n",
              "            await google.colab.kernel.invokeFunction('convertToInteractive',\n",
              "                                                     [key], {});\n",
              "          if (!dataTable) return;\n",
              "\n",
              "          const docLinkHtml = 'Like what you see? Visit the ' +\n",
              "            '<a target=\"_blank\" href=https://colab.research.google.com/notebooks/data_table.ipynb>data table notebook</a>'\n",
              "            + ' to learn more about interactive tables.';\n",
              "          element.innerHTML = '';\n",
              "          dataTable['output_type'] = 'display_data';\n",
              "          await google.colab.output.renderOutput(dataTable, element);\n",
              "          const docLink = document.createElement('div');\n",
              "          docLink.innerHTML = docLinkHtml;\n",
              "          element.appendChild(docLink);\n",
              "        }\n",
              "      </script>\n",
              "    </div>\n",
              "  </div>\n",
              "  "
            ]
          },
          "metadata": {},
          "execution_count": 24
        }
      ]
    },
    {
      "cell_type": "code",
      "source": [
        "df.info()"
      ],
      "metadata": {
        "colab": {
          "base_uri": "https://localhost:8080/"
        },
        "id": "BhfFdZedjXDr",
        "outputId": "43f12b3d-7d90-48a1-806e-e5a50ee21210"
      },
      "execution_count": null,
      "outputs": [
        {
          "output_type": "stream",
          "name": "stdout",
          "text": [
            "<class 'pandas.core.frame.DataFrame'>\n",
            "RangeIndex: 17 entries, 0 to 16\n",
            "Data columns (total 14 columns):\n",
            " #   Column             Non-Null Count  Dtype  \n",
            "---  ------             --------------  -----  \n",
            " 0   Foods              17 non-null     object \n",
            " 1   Serving Size       17 non-null     object \n",
            " 2   Calories           17 non-null     float64\n",
            " 3   Cholesterol (mg)   17 non-null     float64\n",
            " 4   Total_Fat (g)      17 non-null     float64\n",
            " 5   Sodium (mg)        17 non-null     float64\n",
            " 6   Carbohydrates (g)  17 non-null     float64\n",
            " 7   Dietary_Fiber (g)  17 non-null     float64\n",
            " 8   Protein (g)        17 non-null     float64\n",
            " 9   Vit_A (IU)         17 non-null     float64\n",
            " 10  Vit_C (IU)         17 non-null     float64\n",
            " 11  Calcium (mg)       17 non-null     float64\n",
            " 12  Iron (mg)          17 non-null     float64\n",
            " 13  Price/Serving ($)  17 non-null     float64\n",
            "dtypes: float64(12), object(2)\n",
            "memory usage: 2.0+ KB\n"
          ]
        }
      ]
    },
    {
      "cell_type": "markdown",
      "source": [
        "**Step-4:** Gettting the list of all the food items present in the DataFrame."
      ],
      "metadata": {
        "id": "-Xc3UGIMYEth"
      }
    },
    {
      "cell_type": "code",
      "source": [
        "#List of food items\n",
        "food = list(df.Foods)\n",
        "\n",
        "#The list of items\n",
        "count=pd.Series(range(1,len(food)+1))\n",
        "print('List of different food items is here follows: -')\n",
        "food_s = pd.Series(food)\n",
        "\n",
        "#Convert to data frame\n",
        "f_frame = pd.concat([count,food_s],axis=1,keys=['S.No','Food Items'])\n",
        "f_frame"
      ],
      "metadata": {
        "colab": {
          "base_uri": "https://localhost:8080/",
          "height": 600
        },
        "id": "cvEy9fnIX9XJ",
        "outputId": "f98d3d95-6a27-4705-d1cc-792f682c4a42"
      },
      "execution_count": null,
      "outputs": [
        {
          "output_type": "stream",
          "name": "stdout",
          "text": [
            "List of different food items is here follows: -\n"
          ]
        },
        {
          "output_type": "execute_result",
          "data": {
            "text/plain": [
              "    S.No              Food Items\n",
              "0      1         Frozen Broccoli\n",
              "1      2             Frozen Corn\n",
              "2      3     Raw Lettuce Iceberg\n",
              "3      4          Baked Potatoes\n",
              "4      5                    Tofu\n",
              "5      6         Roasted Chicken\n",
              "6      7      Spaghetti W/ Sauce\n",
              "7      8               Raw Apple\n",
              "8      9                  Banana\n",
              "9     10             Wheat Bread\n",
              "10    11             White Bread\n",
              "11    12         Oatmeal Cookies\n",
              "12    13               Apple Pie\n",
              "13    14          Scrambled Eggs\n",
              "14    15          Turkey Bologna\n",
              "15    16        Beef Frankfurter\n",
              "16    17  Chocolate Chip Cookies"
            ],
            "text/html": [
              "\n",
              "  <div id=\"df-66467eb7-e3e0-41dd-83c8-12cf1ce2d6b5\">\n",
              "    <div class=\"colab-df-container\">\n",
              "      <div>\n",
              "<style scoped>\n",
              "    .dataframe tbody tr th:only-of-type {\n",
              "        vertical-align: middle;\n",
              "    }\n",
              "\n",
              "    .dataframe tbody tr th {\n",
              "        vertical-align: top;\n",
              "    }\n",
              "\n",
              "    .dataframe thead th {\n",
              "        text-align: right;\n",
              "    }\n",
              "</style>\n",
              "<table border=\"1\" class=\"dataframe\">\n",
              "  <thead>\n",
              "    <tr style=\"text-align: right;\">\n",
              "      <th></th>\n",
              "      <th>S.No</th>\n",
              "      <th>Food Items</th>\n",
              "    </tr>\n",
              "  </thead>\n",
              "  <tbody>\n",
              "    <tr>\n",
              "      <th>0</th>\n",
              "      <td>1</td>\n",
              "      <td>Frozen Broccoli</td>\n",
              "    </tr>\n",
              "    <tr>\n",
              "      <th>1</th>\n",
              "      <td>2</td>\n",
              "      <td>Frozen Corn</td>\n",
              "    </tr>\n",
              "    <tr>\n",
              "      <th>2</th>\n",
              "      <td>3</td>\n",
              "      <td>Raw Lettuce Iceberg</td>\n",
              "    </tr>\n",
              "    <tr>\n",
              "      <th>3</th>\n",
              "      <td>4</td>\n",
              "      <td>Baked Potatoes</td>\n",
              "    </tr>\n",
              "    <tr>\n",
              "      <th>4</th>\n",
              "      <td>5</td>\n",
              "      <td>Tofu</td>\n",
              "    </tr>\n",
              "    <tr>\n",
              "      <th>5</th>\n",
              "      <td>6</td>\n",
              "      <td>Roasted Chicken</td>\n",
              "    </tr>\n",
              "    <tr>\n",
              "      <th>6</th>\n",
              "      <td>7</td>\n",
              "      <td>Spaghetti W/ Sauce</td>\n",
              "    </tr>\n",
              "    <tr>\n",
              "      <th>7</th>\n",
              "      <td>8</td>\n",
              "      <td>Raw Apple</td>\n",
              "    </tr>\n",
              "    <tr>\n",
              "      <th>8</th>\n",
              "      <td>9</td>\n",
              "      <td>Banana</td>\n",
              "    </tr>\n",
              "    <tr>\n",
              "      <th>9</th>\n",
              "      <td>10</td>\n",
              "      <td>Wheat Bread</td>\n",
              "    </tr>\n",
              "    <tr>\n",
              "      <th>10</th>\n",
              "      <td>11</td>\n",
              "      <td>White Bread</td>\n",
              "    </tr>\n",
              "    <tr>\n",
              "      <th>11</th>\n",
              "      <td>12</td>\n",
              "      <td>Oatmeal Cookies</td>\n",
              "    </tr>\n",
              "    <tr>\n",
              "      <th>12</th>\n",
              "      <td>13</td>\n",
              "      <td>Apple Pie</td>\n",
              "    </tr>\n",
              "    <tr>\n",
              "      <th>13</th>\n",
              "      <td>14</td>\n",
              "      <td>Scrambled Eggs</td>\n",
              "    </tr>\n",
              "    <tr>\n",
              "      <th>14</th>\n",
              "      <td>15</td>\n",
              "      <td>Turkey Bologna</td>\n",
              "    </tr>\n",
              "    <tr>\n",
              "      <th>15</th>\n",
              "      <td>16</td>\n",
              "      <td>Beef Frankfurter</td>\n",
              "    </tr>\n",
              "    <tr>\n",
              "      <th>16</th>\n",
              "      <td>17</td>\n",
              "      <td>Chocolate Chip Cookies</td>\n",
              "    </tr>\n",
              "  </tbody>\n",
              "</table>\n",
              "</div>\n",
              "      <button class=\"colab-df-convert\" onclick=\"convertToInteractive('df-66467eb7-e3e0-41dd-83c8-12cf1ce2d6b5')\"\n",
              "              title=\"Convert this dataframe to an interactive table.\"\n",
              "              style=\"display:none;\">\n",
              "        \n",
              "  <svg xmlns=\"http://www.w3.org/2000/svg\" height=\"24px\"viewBox=\"0 0 24 24\"\n",
              "       width=\"24px\">\n",
              "    <path d=\"M0 0h24v24H0V0z\" fill=\"none\"/>\n",
              "    <path d=\"M18.56 5.44l.94 2.06.94-2.06 2.06-.94-2.06-.94-.94-2.06-.94 2.06-2.06.94zm-11 1L8.5 8.5l.94-2.06 2.06-.94-2.06-.94L8.5 2.5l-.94 2.06-2.06.94zm10 10l.94 2.06.94-2.06 2.06-.94-2.06-.94-.94-2.06-.94 2.06-2.06.94z\"/><path d=\"M17.41 7.96l-1.37-1.37c-.4-.4-.92-.59-1.43-.59-.52 0-1.04.2-1.43.59L10.3 9.45l-7.72 7.72c-.78.78-.78 2.05 0 2.83L4 21.41c.39.39.9.59 1.41.59.51 0 1.02-.2 1.41-.59l7.78-7.78 2.81-2.81c.8-.78.8-2.07 0-2.86zM5.41 20L4 18.59l7.72-7.72 1.47 1.35L5.41 20z\"/>\n",
              "  </svg>\n",
              "      </button>\n",
              "      \n",
              "  <style>\n",
              "    .colab-df-container {\n",
              "      display:flex;\n",
              "      flex-wrap:wrap;\n",
              "      gap: 12px;\n",
              "    }\n",
              "\n",
              "    .colab-df-convert {\n",
              "      background-color: #E8F0FE;\n",
              "      border: none;\n",
              "      border-radius: 50%;\n",
              "      cursor: pointer;\n",
              "      display: none;\n",
              "      fill: #1967D2;\n",
              "      height: 32px;\n",
              "      padding: 0 0 0 0;\n",
              "      width: 32px;\n",
              "    }\n",
              "\n",
              "    .colab-df-convert:hover {\n",
              "      background-color: #E2EBFA;\n",
              "      box-shadow: 0px 1px 2px rgba(60, 64, 67, 0.3), 0px 1px 3px 1px rgba(60, 64, 67, 0.15);\n",
              "      fill: #174EA6;\n",
              "    }\n",
              "\n",
              "    [theme=dark] .colab-df-convert {\n",
              "      background-color: #3B4455;\n",
              "      fill: #D2E3FC;\n",
              "    }\n",
              "\n",
              "    [theme=dark] .colab-df-convert:hover {\n",
              "      background-color: #434B5C;\n",
              "      box-shadow: 0px 1px 3px 1px rgba(0, 0, 0, 0.15);\n",
              "      filter: drop-shadow(0px 1px 2px rgba(0, 0, 0, 0.3));\n",
              "      fill: #FFFFFF;\n",
              "    }\n",
              "  </style>\n",
              "\n",
              "      <script>\n",
              "        const buttonEl =\n",
              "          document.querySelector('#df-66467eb7-e3e0-41dd-83c8-12cf1ce2d6b5 button.colab-df-convert');\n",
              "        buttonEl.style.display =\n",
              "          google.colab.kernel.accessAllowed ? 'block' : 'none';\n",
              "\n",
              "        async function convertToInteractive(key) {\n",
              "          const element = document.querySelector('#df-66467eb7-e3e0-41dd-83c8-12cf1ce2d6b5');\n",
              "          const dataTable =\n",
              "            await google.colab.kernel.invokeFunction('convertToInteractive',\n",
              "                                                     [key], {});\n",
              "          if (!dataTable) return;\n",
              "\n",
              "          const docLinkHtml = 'Like what you see? Visit the ' +\n",
              "            '<a target=\"_blank\" href=https://colab.research.google.com/notebooks/data_table.ipynb>data table notebook</a>'\n",
              "            + ' to learn more about interactive tables.';\n",
              "          element.innerHTML = '';\n",
              "          dataTable['output_type'] = 'display_data';\n",
              "          await google.colab.output.renderOutput(dataTable, element);\n",
              "          const docLink = document.createElement('div');\n",
              "          docLink.innerHTML = docLinkHtml;\n",
              "          element.appendChild(docLink);\n",
              "        }\n",
              "      </script>\n",
              "    </div>\n",
              "  </div>\n",
              "  "
            ]
          },
          "metadata": {},
          "execution_count": 26
        }
      ]
    },
    {
      "cell_type": "markdown",
      "source": [
        "**Step-5:** Create a separate dictionary for each of these columns - 'Price/Serving', 'Calories', 'Cholesterol (mg)', 'Total_Fat (g)', 'Sodium (mg)', 'Carbohydrates (g)', 'Dietary_Fiber (g)', 'Protein (g)', 'Vit_A (IU)', 'Vit_C (IU)', 'Calcium (mg)', and 'Iron (mg)' using zip() function."
      ],
      "metadata": {
        "id": "uINBGfxHYVW5"
      }
    },
    {
      "cell_type": "code",
      "source": [
        "# Create a dictinary of costs for all food items\n",
        "costs = dict(zip(food,df['Price/Serving ($)']))\n",
        "\n",
        "#Create a dictionary of calories for all items of food\n",
        "calories = dict(zip(food,df['Calories']))\n",
        "\n",
        "#Create a dictionary of cholesterol for all items of food\n",
        "chol = dict(zip(food,df['Cholesterol (mg)']))\n",
        "\n",
        "#Create a dictionary of total fat for all items of food\n",
        "fat = dict(zip(food,df['Total_Fat (g)']))\n",
        "\n",
        "#Create a dictionary of sodium for all items of food\n",
        "sodium = dict(zip(food,df['Sodium (mg)']))\n",
        "\n",
        "#Create a dictionary of carbohydrates for all items of food\n",
        "carbs = dict(zip(food,df['Carbohydrates (g)']))\n",
        "\n",
        "#Create a dictionary of dietary fiber for all items of food\n",
        "fiber = dict(zip(food,df['Dietary_Fiber (g)']))\n",
        "\n",
        "#Create a dictionary of protein for all food items\n",
        "protein = dict(zip(food,df['Protein (g)']))\n",
        "\n",
        "#Create a dictionary of vitamin A for all food items\n",
        "vit_A = dict(zip(food,df['Vit_A (IU)']))\n",
        "\n",
        "#Create a dictionary of vitamin C for all food items\n",
        "vit_C = dict(zip(food,df['Vit_C (IU)']))\n",
        "\n",
        "#Create a dictionary of calcium for all food items\n",
        "calcium = dict(zip(food,df['Calcium (mg)']))\n",
        "\n",
        "#Create a dictionary of iron for all food items\n",
        "iron = dict(zip(food,df['Iron (mg)']))"
      ],
      "metadata": {
        "id": "85pnToIbYR2n"
      },
      "execution_count": null,
      "outputs": []
    },
    {
      "cell_type": "markdown",
      "source": [
        "**Step-6:** Running one of the dictionaries to see how these look like."
      ],
      "metadata": {
        "id": "GczbwVT2Zsxa"
      }
    },
    {
      "cell_type": "code",
      "source": [
        "#We just run one of the dictionaries to see how these look like\n",
        "iron"
      ],
      "metadata": {
        "colab": {
          "base_uri": "https://localhost:8080/"
        },
        "id": "rXdKFqGDZql7",
        "outputId": "b8538f77-7928-4caf-ead1-48d244ae579e"
      },
      "execution_count": null,
      "outputs": [
        {
          "output_type": "execute_result",
          "data": {
            "text/plain": [
              "{'Frozen Broccoli': 2.3,\n",
              " 'Frozen Corn': 0.3,\n",
              " 'Raw Lettuce Iceberg': 0.1,\n",
              " ' Baked Potatoes': 4.3,\n",
              " 'Tofu': 6.2,\n",
              " 'Roasted Chicken': 1.8,\n",
              " 'Spaghetti W/ Sauce': 2.3,\n",
              " 'Raw Apple': 0.2,\n",
              " 'Banana': 0.4,\n",
              " 'Wheat Bread': 0.7,\n",
              " 'White Bread': 0.8,\n",
              " 'Oatmeal Cookies': 0.5,\n",
              " 'Apple Pie': 0.1,\n",
              " 'Scrambled Eggs': 0.7,\n",
              " 'Turkey Bologna': 0.4,\n",
              " 'Beef Frankfurter': 0.6,\n",
              " 'Chocolate Chip Cookies': 0.4}"
            ]
          },
          "metadata": {},
          "execution_count": 28
        }
      ]
    },
    {
      "cell_type": "markdown",
      "source": [
        "**Step-7:**  Creating a dictionary called 'food_vars' to store the referenced variables for food items with the 'food' list."
      ],
      "metadata": {
        "id": "e5LniViUaI7g"
      }
    },
    {
      "cell_type": "code",
      "source": [
        "# A dictionary called 'food_vars' is created to contain the referenced Variables\n",
        "food_vars = LpVariable.dicts(\"Food\",food,lowBound=0,cat='Continuous')"
      ],
      "metadata": {
        "id": "ahG4DTfAaF1T"
      },
      "execution_count": null,
      "outputs": []
    },
    {
      "cell_type": "code",
      "source": [
        "food_vars"
      ],
      "metadata": {
        "colab": {
          "base_uri": "https://localhost:8080/"
        },
        "id": "XMLoH0MZaVNn",
        "outputId": "cf61d31f-a114-48d8-9f99-9e79f8c1e52f"
      },
      "execution_count": null,
      "outputs": [
        {
          "output_type": "execute_result",
          "data": {
            "text/plain": [
              "{'Frozen Broccoli': Food_Frozen_Broccoli,\n",
              " 'Frozen Corn': Food_Frozen_Corn,\n",
              " 'Raw Lettuce Iceberg': Food_Raw_Lettuce_Iceberg,\n",
              " ' Baked Potatoes': Food__Baked_Potatoes,\n",
              " 'Tofu': Food_Tofu,\n",
              " 'Roasted Chicken': Food_Roasted_Chicken,\n",
              " 'Spaghetti W/ Sauce': Food_Spaghetti_W__Sauce,\n",
              " 'Raw Apple': Food_Raw_Apple,\n",
              " 'Banana': Food_Banana,\n",
              " 'Wheat Bread': Food_Wheat_Bread,\n",
              " 'White Bread': Food_White_Bread,\n",
              " 'Oatmeal Cookies': Food_Oatmeal_Cookies,\n",
              " 'Apple Pie': Food_Apple_Pie,\n",
              " 'Scrambled Eggs': Food_Scrambled_Eggs,\n",
              " 'Turkey Bologna': Food_Turkey_Bologna,\n",
              " 'Beef Frankfurter': Food_Beef_Frankfurter,\n",
              " 'Chocolate Chip Cookies': Food_Chocolate_Chip_Cookies}"
            ]
          },
          "metadata": {},
          "execution_count": 30
        }
      ]
    },
    {
      "cell_type": "markdown",
      "source": [
        "**Step-8:** Addition of Objective fucntion to the LPP Minimization problem that we've already defined. Let's use of the lpSum() method.\n"
      ],
      "metadata": {
        "id": "Xa4AL4EJae2l"
      }
    },
    {
      "cell_type": "code",
      "source": [
        "prob += lpSum([costs[i]*food_vars[i] for i in food])\n",
        "prob"
      ],
      "metadata": {
        "colab": {
          "base_uri": "https://localhost:8080/"
        },
        "id": "LDkevaoVaoGM",
        "outputId": "beb3eead-18e9-47f4-8aea-1eeab887078c"
      },
      "execution_count": null,
      "outputs": [
        {
          "output_type": "execute_result",
          "data": {
            "text/plain": [
              "Diet_Problem:\n",
              "MINIMIZE\n",
              "0.48*Food_Apple_Pie + 0.45*Food_Banana + 0.81*Food_Beef_Frankfurter + 0.09*Food_Chocolate_Chip_Cookies + 0.48*Food_Frozen_Broccoli + 0.54*Food_Frozen_Corn + 0.27*Food_Oatmeal_Cookies + 0.72*Food_Raw_Apple + 0.06*Food_Raw_Lettuce_Iceberg + 2.52*Food_Roasted_Chicken + 0.33*Food_Scrambled_Eggs + 2.34*Food_Spaghetti_W__Sauce + 0.93*Food_Tofu + 0.45*Food_Turkey_Bologna + 0.15*Food_Wheat_Bread + 0.18*Food_White_Bread + 0.18*Food__Baked_Potatoes + 0.0\n",
              "VARIABLES\n",
              "Food_Apple_Pie Continuous\n",
              "Food_Banana Continuous\n",
              "Food_Beef_Frankfurter Continuous\n",
              "Food_Chocolate_Chip_Cookies Continuous\n",
              "Food_Frozen_Broccoli Continuous\n",
              "Food_Frozen_Corn Continuous\n",
              "Food_Oatmeal_Cookies Continuous\n",
              "Food_Raw_Apple Continuous\n",
              "Food_Raw_Lettuce_Iceberg Continuous\n",
              "Food_Roasted_Chicken Continuous\n",
              "Food_Scrambled_Eggs Continuous\n",
              "Food_Spaghetti_W__Sauce Continuous\n",
              "Food_Tofu Continuous\n",
              "Food_Turkey_Bologna Continuous\n",
              "Food_Wheat_Bread Continuous\n",
              "Food_White_Bread Continuous\n",
              "Food__Baked_Potatoes Continuous"
            ]
          },
          "metadata": {},
          "execution_count": 31
        }
      ]
    },
    {
      "cell_type": "markdown",
      "source": [
        "**Step-9:** Adding the maximum and minumum constraints for each of the nutritional values."
      ],
      "metadata": {
        "id": "oKetmmqubENu"
      }
    },
    {
      "cell_type": "code",
      "source": [
        "lpSum([food_vars[i]*calories[i] for i in food])"
      ],
      "metadata": {
        "colab": {
          "base_uri": "https://localhost:8080/"
        },
        "id": "7LvVdzGzbHAt",
        "outputId": "aeee190d-3523-4a17-ce89-6c18eb412750"
      },
      "execution_count": null,
      "outputs": [
        {
          "output_type": "execute_result",
          "data": {
            "text/plain": [
              "67.2*Food_Apple_Pie + 104.9*Food_Banana + 141.8*Food_Beef_Frankfurter + 78.1*Food_Chocolate_Chip_Cookies + 73.8*Food_Frozen_Broccoli + 72.2*Food_Frozen_Corn + 81.0*Food_Oatmeal_Cookies + 81.4*Food_Raw_Apple + 2.6*Food_Raw_Lettuce_Iceberg + 277.4*Food_Roasted_Chicken + 99.6*Food_Scrambled_Eggs + 358.2*Food_Spaghetti_W__Sauce + 88.2*Food_Tofu + 56.4*Food_Turkey_Bologna + 65.0*Food_Wheat_Bread + 65.0*Food_White_Bread + 171.5*Food__Baked_Potatoes + 0.0"
            ]
          },
          "metadata": {},
          "execution_count": 32
        }
      ]
    },
    {
      "cell_type": "code",
      "source": [
        "df[['Foods','Calories']]"
      ],
      "metadata": {
        "colab": {
          "base_uri": "https://localhost:8080/",
          "height": 582
        },
        "id": "2SkYX1nUbKZb",
        "outputId": "bc4b10ef-91f1-4bc1-fd31-35b15ed7d3d6"
      },
      "execution_count": null,
      "outputs": [
        {
          "output_type": "execute_result",
          "data": {
            "text/plain": [
              "                     Foods  Calories\n",
              "0          Frozen Broccoli      73.8\n",
              "1              Frozen Corn      72.2\n",
              "2      Raw Lettuce Iceberg       2.6\n",
              "3           Baked Potatoes     171.5\n",
              "4                     Tofu      88.2\n",
              "5          Roasted Chicken     277.4\n",
              "6       Spaghetti W/ Sauce     358.2\n",
              "7                Raw Apple      81.4\n",
              "8                   Banana     104.9\n",
              "9              Wheat Bread      65.0\n",
              "10             White Bread      65.0\n",
              "11         Oatmeal Cookies      81.0\n",
              "12               Apple Pie      67.2\n",
              "13          Scrambled Eggs      99.6\n",
              "14          Turkey Bologna      56.4\n",
              "15        Beef Frankfurter     141.8\n",
              "16  Chocolate Chip Cookies      78.1"
            ],
            "text/html": [
              "\n",
              "  <div id=\"df-1f078a0e-5d69-4f04-be79-d29f27eef387\">\n",
              "    <div class=\"colab-df-container\">\n",
              "      <div>\n",
              "<style scoped>\n",
              "    .dataframe tbody tr th:only-of-type {\n",
              "        vertical-align: middle;\n",
              "    }\n",
              "\n",
              "    .dataframe tbody tr th {\n",
              "        vertical-align: top;\n",
              "    }\n",
              "\n",
              "    .dataframe thead th {\n",
              "        text-align: right;\n",
              "    }\n",
              "</style>\n",
              "<table border=\"1\" class=\"dataframe\">\n",
              "  <thead>\n",
              "    <tr style=\"text-align: right;\">\n",
              "      <th></th>\n",
              "      <th>Foods</th>\n",
              "      <th>Calories</th>\n",
              "    </tr>\n",
              "  </thead>\n",
              "  <tbody>\n",
              "    <tr>\n",
              "      <th>0</th>\n",
              "      <td>Frozen Broccoli</td>\n",
              "      <td>73.8</td>\n",
              "    </tr>\n",
              "    <tr>\n",
              "      <th>1</th>\n",
              "      <td>Frozen Corn</td>\n",
              "      <td>72.2</td>\n",
              "    </tr>\n",
              "    <tr>\n",
              "      <th>2</th>\n",
              "      <td>Raw Lettuce Iceberg</td>\n",
              "      <td>2.6</td>\n",
              "    </tr>\n",
              "    <tr>\n",
              "      <th>3</th>\n",
              "      <td>Baked Potatoes</td>\n",
              "      <td>171.5</td>\n",
              "    </tr>\n",
              "    <tr>\n",
              "      <th>4</th>\n",
              "      <td>Tofu</td>\n",
              "      <td>88.2</td>\n",
              "    </tr>\n",
              "    <tr>\n",
              "      <th>5</th>\n",
              "      <td>Roasted Chicken</td>\n",
              "      <td>277.4</td>\n",
              "    </tr>\n",
              "    <tr>\n",
              "      <th>6</th>\n",
              "      <td>Spaghetti W/ Sauce</td>\n",
              "      <td>358.2</td>\n",
              "    </tr>\n",
              "    <tr>\n",
              "      <th>7</th>\n",
              "      <td>Raw Apple</td>\n",
              "      <td>81.4</td>\n",
              "    </tr>\n",
              "    <tr>\n",
              "      <th>8</th>\n",
              "      <td>Banana</td>\n",
              "      <td>104.9</td>\n",
              "    </tr>\n",
              "    <tr>\n",
              "      <th>9</th>\n",
              "      <td>Wheat Bread</td>\n",
              "      <td>65.0</td>\n",
              "    </tr>\n",
              "    <tr>\n",
              "      <th>10</th>\n",
              "      <td>White Bread</td>\n",
              "      <td>65.0</td>\n",
              "    </tr>\n",
              "    <tr>\n",
              "      <th>11</th>\n",
              "      <td>Oatmeal Cookies</td>\n",
              "      <td>81.0</td>\n",
              "    </tr>\n",
              "    <tr>\n",
              "      <th>12</th>\n",
              "      <td>Apple Pie</td>\n",
              "      <td>67.2</td>\n",
              "    </tr>\n",
              "    <tr>\n",
              "      <th>13</th>\n",
              "      <td>Scrambled Eggs</td>\n",
              "      <td>99.6</td>\n",
              "    </tr>\n",
              "    <tr>\n",
              "      <th>14</th>\n",
              "      <td>Turkey Bologna</td>\n",
              "      <td>56.4</td>\n",
              "    </tr>\n",
              "    <tr>\n",
              "      <th>15</th>\n",
              "      <td>Beef Frankfurter</td>\n",
              "      <td>141.8</td>\n",
              "    </tr>\n",
              "    <tr>\n",
              "      <th>16</th>\n",
              "      <td>Chocolate Chip Cookies</td>\n",
              "      <td>78.1</td>\n",
              "    </tr>\n",
              "  </tbody>\n",
              "</table>\n",
              "</div>\n",
              "      <button class=\"colab-df-convert\" onclick=\"convertToInteractive('df-1f078a0e-5d69-4f04-be79-d29f27eef387')\"\n",
              "              title=\"Convert this dataframe to an interactive table.\"\n",
              "              style=\"display:none;\">\n",
              "        \n",
              "  <svg xmlns=\"http://www.w3.org/2000/svg\" height=\"24px\"viewBox=\"0 0 24 24\"\n",
              "       width=\"24px\">\n",
              "    <path d=\"M0 0h24v24H0V0z\" fill=\"none\"/>\n",
              "    <path d=\"M18.56 5.44l.94 2.06.94-2.06 2.06-.94-2.06-.94-.94-2.06-.94 2.06-2.06.94zm-11 1L8.5 8.5l.94-2.06 2.06-.94-2.06-.94L8.5 2.5l-.94 2.06-2.06.94zm10 10l.94 2.06.94-2.06 2.06-.94-2.06-.94-.94-2.06-.94 2.06-2.06.94z\"/><path d=\"M17.41 7.96l-1.37-1.37c-.4-.4-.92-.59-1.43-.59-.52 0-1.04.2-1.43.59L10.3 9.45l-7.72 7.72c-.78.78-.78 2.05 0 2.83L4 21.41c.39.39.9.59 1.41.59.51 0 1.02-.2 1.41-.59l7.78-7.78 2.81-2.81c.8-.78.8-2.07 0-2.86zM5.41 20L4 18.59l7.72-7.72 1.47 1.35L5.41 20z\"/>\n",
              "  </svg>\n",
              "      </button>\n",
              "      \n",
              "  <style>\n",
              "    .colab-df-container {\n",
              "      display:flex;\n",
              "      flex-wrap:wrap;\n",
              "      gap: 12px;\n",
              "    }\n",
              "\n",
              "    .colab-df-convert {\n",
              "      background-color: #E8F0FE;\n",
              "      border: none;\n",
              "      border-radius: 50%;\n",
              "      cursor: pointer;\n",
              "      display: none;\n",
              "      fill: #1967D2;\n",
              "      height: 32px;\n",
              "      padding: 0 0 0 0;\n",
              "      width: 32px;\n",
              "    }\n",
              "\n",
              "    .colab-df-convert:hover {\n",
              "      background-color: #E2EBFA;\n",
              "      box-shadow: 0px 1px 2px rgba(60, 64, 67, 0.3), 0px 1px 3px 1px rgba(60, 64, 67, 0.15);\n",
              "      fill: #174EA6;\n",
              "    }\n",
              "\n",
              "    [theme=dark] .colab-df-convert {\n",
              "      background-color: #3B4455;\n",
              "      fill: #D2E3FC;\n",
              "    }\n",
              "\n",
              "    [theme=dark] .colab-df-convert:hover {\n",
              "      background-color: #434B5C;\n",
              "      box-shadow: 0px 1px 3px 1px rgba(0, 0, 0, 0.15);\n",
              "      filter: drop-shadow(0px 1px 2px rgba(0, 0, 0, 0.3));\n",
              "      fill: #FFFFFF;\n",
              "    }\n",
              "  </style>\n",
              "\n",
              "      <script>\n",
              "        const buttonEl =\n",
              "          document.querySelector('#df-1f078a0e-5d69-4f04-be79-d29f27eef387 button.colab-df-convert');\n",
              "        buttonEl.style.display =\n",
              "          google.colab.kernel.accessAllowed ? 'block' : 'none';\n",
              "\n",
              "        async function convertToInteractive(key) {\n",
              "          const element = document.querySelector('#df-1f078a0e-5d69-4f04-be79-d29f27eef387');\n",
              "          const dataTable =\n",
              "            await google.colab.kernel.invokeFunction('convertToInteractive',\n",
              "                                                     [key], {});\n",
              "          if (!dataTable) return;\n",
              "\n",
              "          const docLinkHtml = 'Like what you see? Visit the ' +\n",
              "            '<a target=\"_blank\" href=https://colab.research.google.com/notebooks/data_table.ipynb>data table notebook</a>'\n",
              "            + ' to learn more about interactive tables.';\n",
              "          element.innerHTML = '';\n",
              "          dataTable['output_type'] = 'display_data';\n",
              "          await google.colab.output.renderOutput(dataTable, element);\n",
              "          const docLink = document.createElement('div');\n",
              "          docLink.innerHTML = docLinkHtml;\n",
              "          element.appendChild(docLink);\n",
              "        }\n",
              "      </script>\n",
              "    </div>\n",
              "  </div>\n",
              "  "
            ]
          },
          "metadata": {},
          "execution_count": 33
        }
      ]
    },
    {
      "cell_type": "code",
      "source": [
        "prob += lpSum([food_vars[x]*calories[x] for x in food]) >= 800, \"CaloriesMinimum\"\n",
        "prob += lpSum([food_vars[x]*calories[x] for x in food]) <= 1300, \"CaloriesMaximum\"\n",
        "prob"
      ],
      "metadata": {
        "id": "7JA7wbqOuT9Q",
        "colab": {
          "base_uri": "https://localhost:8080/"
        },
        "outputId": "c04000ea-be61-40b8-b44e-3579728acc0c"
      },
      "execution_count": null,
      "outputs": [
        {
          "output_type": "execute_result",
          "data": {
            "text/plain": [
              "Diet_Problem:\n",
              "MINIMIZE\n",
              "0.48*Food_Apple_Pie + 0.45*Food_Banana + 0.81*Food_Beef_Frankfurter + 0.09*Food_Chocolate_Chip_Cookies + 0.48*Food_Frozen_Broccoli + 0.54*Food_Frozen_Corn + 0.27*Food_Oatmeal_Cookies + 0.72*Food_Raw_Apple + 0.06*Food_Raw_Lettuce_Iceberg + 2.52*Food_Roasted_Chicken + 0.33*Food_Scrambled_Eggs + 2.34*Food_Spaghetti_W__Sauce + 0.93*Food_Tofu + 0.45*Food_Turkey_Bologna + 0.15*Food_Wheat_Bread + 0.18*Food_White_Bread + 0.18*Food__Baked_Potatoes + 0.0\n",
              "SUBJECT TO\n",
              "CaloriesMinimum: 67.2 Food_Apple_Pie + 104.9 Food_Banana\n",
              " + 141.8 Food_Beef_Frankfurter + 78.1 Food_Chocolate_Chip_Cookies\n",
              " + 73.8 Food_Frozen_Broccoli + 72.2 Food_Frozen_Corn + 81 Food_Oatmeal_Cookies\n",
              " + 81.4 Food_Raw_Apple + 2.6 Food_Raw_Lettuce_Iceberg\n",
              " + 277.4 Food_Roasted_Chicken + 99.6 Food_Scrambled_Eggs\n",
              " + 358.2 Food_Spaghetti_W__Sauce + 88.2 Food_Tofu + 56.4 Food_Turkey_Bologna\n",
              " + 65 Food_Wheat_Bread + 65 Food_White_Bread + 171.5 Food__Baked_Potatoes\n",
              " >= 800\n",
              "\n",
              "CaloriesMaximum: 67.2 Food_Apple_Pie + 104.9 Food_Banana\n",
              " + 141.8 Food_Beef_Frankfurter + 78.1 Food_Chocolate_Chip_Cookies\n",
              " + 73.8 Food_Frozen_Broccoli + 72.2 Food_Frozen_Corn + 81 Food_Oatmeal_Cookies\n",
              " + 81.4 Food_Raw_Apple + 2.6 Food_Raw_Lettuce_Iceberg\n",
              " + 277.4 Food_Roasted_Chicken + 99.6 Food_Scrambled_Eggs\n",
              " + 358.2 Food_Spaghetti_W__Sauce + 88.2 Food_Tofu + 56.4 Food_Turkey_Bologna\n",
              " + 65 Food_Wheat_Bread + 65 Food_White_Bread + 171.5 Food__Baked_Potatoes\n",
              " <= 1300\n",
              "\n",
              "VARIABLES\n",
              "Food_Apple_Pie Continuous\n",
              "Food_Banana Continuous\n",
              "Food_Beef_Frankfurter Continuous\n",
              "Food_Chocolate_Chip_Cookies Continuous\n",
              "Food_Frozen_Broccoli Continuous\n",
              "Food_Frozen_Corn Continuous\n",
              "Food_Oatmeal_Cookies Continuous\n",
              "Food_Raw_Apple Continuous\n",
              "Food_Raw_Lettuce_Iceberg Continuous\n",
              "Food_Roasted_Chicken Continuous\n",
              "Food_Scrambled_Eggs Continuous\n",
              "Food_Spaghetti_W__Sauce Continuous\n",
              "Food_Tofu Continuous\n",
              "Food_Turkey_Bologna Continuous\n",
              "Food_Wheat_Bread Continuous\n",
              "Food_White_Bread Continuous\n",
              "Food__Baked_Potatoes Continuous"
            ]
          },
          "metadata": {},
          "execution_count": 34
        }
      ]
    },
    {
      "cell_type": "code",
      "source": [
        "#Carbohydrates' constraint\n",
        "prob += lpSum([food_vars[x]*carbs[x] for x in food]) >= 130, \"CarbsMinimum\"\n",
        "prob += lpSum([food_vars[x]*carbs[x] for x in food]) <= 200, \"CarbsMaximum\"\n",
        "\n",
        "#Fat's constraint\n",
        "prob += lpSum([food_vars[x]*fat[x] for x in food]) >= 20, \"FatsMinimum\"\n",
        "prob += lpSum([food_vars[x]*fat[x] for x in food]) <= 50, \"FatsMaximum\"\n",
        "\n",
        "#Protein's constraint\n",
        "prob += lpSum([food_vars[x]*protein[x] for x in food]) >= 100, \"ProteinsMinimum\"\n",
        "prob += lpSum([food_vars[x]*protein[x] for x in food]) <= 150, \"ProteinsMaximum\"\n",
        "\n",
        "#Vit_A constraint\n",
        "prob += lpSum([food_vars[x]*vit_A[x] for x in food]) >= 1000, \"Vit_A_Minimum\"\n",
        "prob += lpSum([food_vars[x]*vit_A[x] for x in food]) <= 10000, \"Vit_A_Maximum\""
      ],
      "metadata": {
        "id": "tajcsTtnud30"
      },
      "execution_count": null,
      "outputs": []
    },
    {
      "cell_type": "markdown",
      "source": [
        "**Step-10:** Running the Solver Algorithm."
      ],
      "metadata": {
        "id": "eAKNu_T9uh_W"
      }
    },
    {
      "cell_type": "code",
      "source": [
        "prob.solve()"
      ],
      "metadata": {
        "id": "cAbpOoFmukPg",
        "colab": {
          "base_uri": "https://localhost:8080/"
        },
        "outputId": "ea10db24-c72e-4fc7-9b29-132aecf48f41"
      },
      "execution_count": null,
      "outputs": [
        {
          "output_type": "execute_result",
          "data": {
            "text/plain": [
              "1"
            ]
          },
          "metadata": {},
          "execution_count": 36
        }
      ]
    },
    {
      "cell_type": "code",
      "source": [
        "prob.solver"
      ],
      "metadata": {
        "id": "uU9I-iRrul5m",
        "colab": {
          "base_uri": "https://localhost:8080/"
        },
        "outputId": "04f0590a-a4f8-46c8-dc3e-32b02980069f"
      },
      "execution_count": null,
      "outputs": [
        {
          "output_type": "execute_result",
          "data": {
            "text/plain": [
              "<pulp.apis.coin_api.PULP_CBC_CMD at 0x7f023430eca0>"
            ]
          },
          "metadata": {},
          "execution_count": 37
        }
      ]
    },
    {
      "cell_type": "code",
      "source": [
        "LpStatus[prob.status]"
      ],
      "metadata": {
        "id": "5gxv9GExunt7",
        "colab": {
          "base_uri": "https://localhost:8080/",
          "height": 35
        },
        "outputId": "8d15d191-0325-4879-9010-09a6201866f7"
      },
      "execution_count": null,
      "outputs": [
        {
          "output_type": "execute_result",
          "data": {
            "text/plain": [
              "'Optimal'"
            ],
            "application/vnd.google.colaboratory.intrinsic+json": {
              "type": "string"
            }
          },
          "metadata": {},
          "execution_count": 38
        }
      ]
    },
    {
      "cell_type": "markdown",
      "source": [
        "**Step-11:** Printing of the variables after solvingthe problem."
      ],
      "metadata": {
        "id": "z56NoaBJuqYl"
      }
    },
    {
      "cell_type": "code",
      "source": [
        "# prob.variables()[1].varValue()\n",
        "\n",
        "for var in prob.variables():\n",
        "    print(f'Variable name: {var.name} , Variable value : {var.value()}\\n')\n",
        "\n",
        "print('\\n')\n",
        "print('*'*100)\n",
        "print('\\n')\n",
        "\n",
        "#We can also see the slack variables of the constraints\n",
        "for name, con in prob.constraints.items():\n",
        "    print(f'constraint name:{name}, constraint value:{con.value()}\\n')\n",
        "\n",
        "print('*'*100)\n",
        "print('\\n')\n",
        "\n",
        "## OBJECTIVE VALUE\n",
        "print(f'OBJECTIVE VALUE IS: {round(prob.objective.value(),2)}')"
      ],
      "metadata": {
        "id": "L6gA-av2urHf",
        "colab": {
          "base_uri": "https://localhost:8080/"
        },
        "outputId": "6d46ce87-2e89-4c62-8c7c-8b5872cca283"
      },
      "execution_count": null,
      "outputs": [
        {
          "output_type": "stream",
          "name": "stdout",
          "text": [
            "Variable name: Food_Apple_Pie , Variable value : 0.0\n",
            "\n",
            "Variable name: Food_Banana , Variable value : 0.0\n",
            "\n",
            "Variable name: Food_Beef_Frankfurter , Variable value : 0.0\n",
            "\n",
            "Variable name: Food_Chocolate_Chip_Cookies , Variable value : 0.0\n",
            "\n",
            "Variable name: Food_Frozen_Broccoli , Variable value : 1.4079473\n",
            "\n",
            "Variable name: Food_Frozen_Corn , Variable value : 0.0\n",
            "\n",
            "Variable name: Food_Oatmeal_Cookies , Variable value : 0.0\n",
            "\n",
            "Variable name: Food_Raw_Apple , Variable value : 0.0\n",
            "\n",
            "Variable name: Food_Raw_Lettuce_Iceberg , Variable value : 0.0\n",
            "\n",
            "Variable name: Food_Roasted_Chicken , Variable value : 1.2329408\n",
            "\n",
            "Variable name: Food_Scrambled_Eggs , Variable value : 4.0165704\n",
            "\n",
            "Variable name: Food_Spaghetti_W__Sauce , Variable value : 0.0\n",
            "\n",
            "Variable name: Food_Tofu , Variable value : 0.0\n",
            "\n",
            "Variable name: Food_Turkey_Bologna , Variable value : 0.0\n",
            "\n",
            "Variable name: Food_Wheat_Bread , Variable value : 0.0\n",
            "\n",
            "Variable name: Food_White_Bread , Variable value : 0.0\n",
            "\n",
            "Variable name: Food__Baked_Potatoes , Variable value : 2.6473778\n",
            "\n",
            "\n",
            "\n",
            "****************************************************************************************************\n",
            "\n",
            "\n",
            "constraint name:CaloriesMinimum, constraint value:499.9999932\n",
            "\n",
            "constraint name:CaloriesMaximum, constraint value:-6.800000107887172e-06\n",
            "\n",
            "constraint name:CarbsMinimum, constraint value:-9.799999975967921e-07\n",
            "\n",
            "constraint name:CarbsMaximum, constraint value:-70.00000097999998\n",
            "\n",
            "constraint name:FatsMinimum, constraint value:24.292557960000003\n",
            "\n",
            "constraint name:FatsMaximum, constraint value:-5.70744204\n",
            "\n",
            "constraint name:ProteinsMinimum, constraint value:-2.999999928476882e-07\n",
            "\n",
            "constraint name:ProteinsMaximum, constraint value:-50.00000029999998\n",
            "\n",
            "constraint name:Vit_A_Minimum, constraint value:9000.000213619998\n",
            "\n",
            "constraint name:Vit_A_Maximum, constraint value:0.00021361999915825436\n",
            "\n",
            "****************************************************************************************************\n",
            "\n",
            "\n",
            "OBJECTIVE VALUE IS: 5.58\n"
          ]
        }
      ]
    }
  ]
}